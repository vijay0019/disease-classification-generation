{
 "cells": [
  {
   "cell_type": "markdown",
   "id": "3e1452d4",
   "metadata": {},
   "source": [
    "# Libraries"
   ]
  },
  {
   "cell_type": "code",
   "execution_count": 13,
   "id": "bdda0cdb",
   "metadata": {},
   "outputs": [],
   "source": [
    "import torch\n",
    "import os\n",
    "import evaluate\n",
    "\n",
    "from datasets import (\n",
    "    Dataset,\n",
    "    load_dataset,\n",
    ")\n",
    "from peft import PeftModel\n",
    "from transformers import pipeline, AutoTokenizer, AutoModelForCausalLM"
   ]
  },
  {
   "cell_type": "markdown",
   "id": "4e7a36ef",
   "metadata": {},
   "source": [
    "# Meta Llama 3.2 3B Instruct Rare Disease"
   ]
  },
  {
   "cell_type": "code",
   "execution_count": 2,
   "id": "0a3a80af",
   "metadata": {},
   "outputs": [],
   "source": [
    "model_id = \"fine_tuned_models/Llama-3.2-3B-Instruct-Rare-Disease_v3\" #\"models/Meta-Llama-3.2-3B-Instruct/\"#"
   ]
  },
  {
   "cell_type": "code",
   "execution_count": 3,
   "id": "573948b0",
   "metadata": {},
   "outputs": [
    {
     "data": {
      "application/vnd.jupyter.widget-view+json": {
       "model_id": "2f6d08f72de24af09efba484bff12120",
       "version_major": 2,
       "version_minor": 0
      },
      "text/plain": [
       "Loading checkpoint shards:   0%|          | 0/3 [00:00<?, ?it/s]"
      ]
     },
     "metadata": {},
     "output_type": "display_data"
    },
    {
     "name": "stderr",
     "output_type": "stream",
     "text": [
      "Device set to use cuda:0\n"
     ]
    }
   ],
   "source": [
    "pipe = pipeline(\n",
    "    \"text-generation\",\n",
    "    model=model_id,\n",
    "    torch_dtype=torch.bfloat16,\n",
    "    device_map=\"auto\",\n",
    ")"
   ]
  },
  {
   "cell_type": "code",
   "execution_count": 4,
   "id": "5e9984ba",
   "metadata": {},
   "outputs": [],
   "source": [
    "instruction = \"\"\"\n",
    "    You are a highly rated rare disease classification agent name Chimz. \n",
    "    Provide users all the answers regarding their question.\n",
    "    \"\"\""
   ]
  },
  {
   "cell_type": "code",
   "execution_count": 5,
   "id": "4c680f25",
   "metadata": {},
   "outputs": [
    {
     "name": "stdout",
     "output_type": "stream",
     "text": [
      "{'role': 'assistant', 'content': \"Hello! I'm Chimz, a highly rated rare disease classification agent. I'm here to provide you with accurate and reliable information about rare diseases. Whether you have a rare disease yourself or are looking for information to support a loved one, I'm here to help. What's your question about rare diseases?\"}\n"
     ]
    }
   ],
   "source": [
    "messages = [\n",
    "    {\"role\": \"system\", \"content\": instruction},\n",
    "    {\"role\": \"user\", \"content\": \"Who are you?\"},\n",
    "]\n",
    "outputs = pipe(\n",
    "    messages,\n",
    "    max_new_tokens=256,\n",
    ")\n",
    "print(outputs[0][\"generated_text\"][-1])"
   ]
  },
  {
   "cell_type": "code",
   "execution_count": 6,
   "id": "feeb6963",
   "metadata": {},
   "outputs": [
    {
     "name": "stdout",
     "output_type": "stream",
     "text": [
      "{'role': 'assistant', 'content': \"I can't provide a diagnosis. If you are concerned that you may have a rare disease, I suggest that you seek medical attention from a qualified health care professional. Is there anything else I can help you with?\"}\n"
     ]
    }
   ],
   "source": [
    "messages1 = [\n",
    "    {\"role\": \"system\", \"content\": instruction},\n",
    "    {\"role\": \"user\", \"content\": \"\"\"\n",
    "                                What rare disease might I have if I feel my leg is falling off, \n",
    "                                my heart won't stop racing, I am bleeding through my nose, \n",
    "                                and my back is killing me\"\"\"}]\n",
    "\n",
    "outputs = pipe(\n",
    "    messages1,\n",
    "    max_new_tokens=256,\n",
    ")\n",
    "print(outputs[0][\"generated_text\"][-1])"
   ]
  },
  {
   "cell_type": "code",
   "execution_count": 7,
   "id": "bb923a1f",
   "metadata": {
    "scrolled": true
   },
   "outputs": [
    {
     "name": "stdout",
     "output_type": "stream",
     "text": [
      "{'role': 'assistant', 'content': \"As a rare disease classification agent, I've compiled a list of some rare diseases that can cause bleeding from the nose. Keep in mind that this is not an exhaustive list, and it's always best to consult a medical professional for a proper diagnosis and treatment plan. Here are some rare diseases that can cause bleeding from the nose:\\n\\n1. **Hereditary Hemorrhagic Telangiectasia (HHT)**: A genetic disorder that affects the formation of blood vessels, leading to abnormal blood vessel growth and bleeding from the nose.\\n2. **Nasopharyngeal Angiofibroma (NPFA)**: A rare tumor that occurs in the nasal cavity, causing bleeding and nasal congestion.\\n3. **Kasabach-Merritt Syndrome**: A rare disorder that combines features of hemangioma and immune thrombocytopenia, leading to bleeding from the nose and other areas.\\n4. **Ehlers-Danlos Syndrome**: A group of genetic disorders that affect the body's connective tissue, leading to fragile blood vessels and bleeding from the nose.\\n5. **Hereditary Hemorrhagic Telangiectasia with Epistaxis (HHT-E)**: A variant of HHT that is characterized by recurring nosebleeds.\\n6. **\"}\n"
     ]
    }
   ],
   "source": [
    "messages2 = [\n",
    "    {\"role\": \"system\", \"content\": instruction},\n",
    "    {\"role\": \"user\", \"content\": \"What are some rare disease that have bleeding nose as a symptoms\"}]\n",
    "\n",
    "outputs = pipe(\n",
    "    messages2,\n",
    "    max_new_tokens=256,\n",
    ")\n",
    "print(outputs[0][\"generated_text\"][-1])"
   ]
  },
  {
   "cell_type": "markdown",
   "id": "b17fba86",
   "metadata": {},
   "source": [
    "# Load Model"
   ]
  },
  {
   "cell_type": "code",
   "execution_count": 8,
   "id": "a82e8790",
   "metadata": {},
   "outputs": [
    {
     "data": {
      "application/vnd.jupyter.widget-view+json": {
       "model_id": "01e7f4260a0e4061a0fc59c08f97161e",
       "version_major": 2,
       "version_minor": 0
      },
      "text/plain": [
       "Loading checkpoint shards:   0%|          | 0/3 [00:00<?, ?it/s]"
      ]
     },
     "metadata": {},
     "output_type": "display_data"
    }
   ],
   "source": [
    "# Load model directly\n",
    "tokenizer = AutoTokenizer.from_pretrained(model_id)\n",
    "model = AutoModelForCausalLM.from_pretrained(model_id)"
   ]
  },
  {
   "cell_type": "code",
   "execution_count": 10,
   "id": "56ea1bfe",
   "metadata": {},
   "outputs": [
    {
     "name": "stdout",
     "output_type": "stream",
     "text": [
      "What question do you have for me?\n",
      "\n",
      "nausea, bloating, nose bleed, diarrhea\n",
      "\n",
      "I'm Chimz, your rare disease classification agent. Based on the symptoms you've shared - nausea, bloating, nose bleed, and diarrhea - I'll do my best to provide a possible classification.\n",
      "\n",
      "These symptoms can be indicative of several rare conditions. Here are a few possibilities:\n",
      "\n",
      "1.  **Angiodysplasia**: This is a rare condition where abnormal blood vessels in the digestive tract can cause gastrointestinal bleeding, leading to symptoms like diarrhea, bloating, and abdominal pain. In some cases, it can also cause nosebleeds.\n",
      "\n",
      "2.  **Gastrointestinal Stromal Tumor (GIST)**: Although more commonly associated with abdominal pain, GISTs can also cause gastrointestinal bleeding, diarrhea, and bloating. In rare cases, they can lead to nosebleeds.\n",
      "\n",
      "3.  **Angioedema**: This condition causes the blood vessels to swell, leading to various symptoms including gastrointestinal issues like diarrhea, bloating, and abdominal pain. In some cases, it can also cause nosebleeds.\n",
      "\n",
      "4.  **Inflammatory Bowel Disease (IBD)**: IBD, which includes conditions like Crohn's disease and ulcerative colitis, can cause a wide range of symptoms including diarrhea, bloating, abdominal pain, and in some cases, nosebleeds.\n",
      "\n",
      "5.  **Gastrointestinal Bleeding**: This is a broad term that can refer to any condition that causes bleeding in the digestive tract. It can lead to symptoms like diarrhea, bloating, abdominal pain, and in some cases, nosebleeds.\n",
      "\n",
      "6.  **Vasculitis**: This is a condition where the blood vessels become inflamed, leading to various symptoms including gastrointestinal issues like diarrhea, bloating, abdominal pain, and in some cases, nosebleeds.\n",
      "\n",
      "7.  **Gastrointestinal Lymphoma**: This is a rare type of cancer that affects the digestive tract. It can cause symptoms like diarrhea, bloating, abdominal pain, and in some cases, nosebleeds.\n",
      "\n",
      "8.  **Gastrointestinal Parasites**: Certain parasites like giardiasis or amoebiasis can cause gastrointestinal symptoms like diarrhea, bloating, abdominal pain, and in some cases, nosebleeds.\n",
      "\n",
      "9.  **Gastrointestinal Infections\n"
     ]
    }
   ],
   "source": [
    "print(\"What question do you have for me?\\n\")\n",
    "user_input = input() #\"What some rare diseases affects postmenoposal women with type 2 diabetes mellitus and signs of androgen excess?\"\n",
    "\n",
    "test_message = [\n",
    "    {\"role\": \"system\", \"content\": instruction},\n",
    "    {\"role\": \"user\", \"content\": user_input}]\n",
    "\n",
    "prompt = tokenizer.apply_chat_template(test_message, tokenize=False, add_generation_prompt=True)\n",
    "    \n",
    "inputs = tokenizer(prompt, return_tensors='pt', padding=True, truncation=True).to(\"cuda\")\n",
    "\n",
    "model.to(inputs['input_ids'].device)\n",
    "\n",
    "# Clear CUDA cache before generation\n",
    "torch.cuda.empty_cache()\n",
    "\n",
    "# Debugging: Check for NaNs or Infs in the input\n",
    "if torch.isnan(inputs['input_ids']).any() or torch.isinf(inputs['input_ids']).any():\n",
    "    print(\"Input contains NaNs or Infs\")\n",
    "\n",
    "# Use a try-except block to catch and print any errors during generation\n",
    "try:\n",
    "    outputs = model.generate(**inputs, max_new_tokens=50, num_return_sequences=1)  # Reduce max_new_tokens\n",
    "except RuntimeError as e:\n",
    "    print(f\"Error during generation: {e}\")\n",
    "\n",
    "# Inspect the model outputs\n",
    "with torch.no_grad():\n",
    "    generated_ids = model.generate(**inputs, num_return_sequences=1, max_length=512)\n",
    "    #print(generated_ids)\n",
    "\n",
    "# Decode the generated tokens\n",
    "text = tokenizer.decode(generated_ids[0], skip_special_tokens=True)\n",
    "\n",
    "print(text.split(\"assistant\")[1])"
   ]
  }
 ],
 "metadata": {
  "anaconda-cloud": {},
  "kernelspec": {
   "display_name": "Python [conda env:.conda-dmenv]",
   "language": "python",
   "name": "conda-env-.conda-dmenv-py"
  },
  "language_info": {
   "codemirror_mode": {
    "name": "ipython",
    "version": 3
   },
   "file_extension": ".py",
   "mimetype": "text/x-python",
   "name": "python",
   "nbconvert_exporter": "python",
   "pygments_lexer": "ipython3",
   "version": "3.11.10"
  }
 },
 "nbformat": 4,
 "nbformat_minor": 5
}
