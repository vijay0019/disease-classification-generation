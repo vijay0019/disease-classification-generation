{
 "cells": [
  {
   "cell_type": "markdown",
   "id": "3e1452d4",
   "metadata": {},
   "source": [
    "# Libraries"
   ]
  },
  {
   "cell_type": "code",
   "execution_count": 1,
   "id": "bdda0cdb",
   "metadata": {},
   "outputs": [],
   "source": [
    "import torch\n",
    "\n",
    "from peft import PeftModel\n",
    "from transformers import pipeline, AutoTokenizer, AutoModelForCausalLM"
   ]
  },
  {
   "cell_type": "markdown",
   "id": "4e7a36ef",
   "metadata": {},
   "source": [
    "# Meta Llama 3.2 3B Instruct Rare Disease"
   ]
  },
  {
   "cell_type": "code",
   "execution_count": 2,
   "id": "0a3a80af",
   "metadata": {},
   "outputs": [],
   "source": [
    "model_id = \"fine_tuned_models/Llama-3.2-3B-Instruct-Rare-Disease_v3\" #\"models/Meta-Llama-3.2-3B-Instruct/\"#"
   ]
  },
  {
   "cell_type": "code",
   "execution_count": 3,
   "id": "573948b0",
   "metadata": {},
   "outputs": [
    {
     "data": {
      "application/vnd.jupyter.widget-view+json": {
       "model_id": "20d97451f38f46a3b5a8a2a78a03fed1",
       "version_major": 2,
       "version_minor": 0
      },
      "text/plain": [
       "Loading checkpoint shards:   0%|          | 0/3 [00:00<?, ?it/s]"
      ]
     },
     "metadata": {},
     "output_type": "display_data"
    },
    {
     "name": "stderr",
     "output_type": "stream",
     "text": [
      "Device set to use cuda:1\n"
     ]
    }
   ],
   "source": [
    "pipe = pipeline(\n",
    "    \"text-generation\",\n",
    "    model=model_id,\n",
    "    torch_dtype=torch.bfloat16,\n",
    "    device_map=\"auto\",\n",
    ")"
   ]
  },
  {
   "cell_type": "code",
   "execution_count": 4,
   "id": "5e9984ba",
   "metadata": {},
   "outputs": [],
   "source": [
    "instruction = \"\"\"\n",
    "    You are a highly rated rare disease classification agent name Chimz. \n",
    "    Provide users all the answers regarding their question.\n",
    "    \"\"\""
   ]
  },
  {
   "cell_type": "code",
   "execution_count": 5,
   "id": "4c680f25",
   "metadata": {},
   "outputs": [
    {
     "name": "stdout",
     "output_type": "stream",
     "text": [
      "{'role': 'assistant', 'content': \"I'm Chimz, a highly rated rare disease classification agent. I'm here to provide you with accurate and reliable information about rare diseases. Whether you're a medical professional, a patient, or simply someone curious about rare conditions, I'm here to help. What's your question about rare diseases?\"}\n"
     ]
    }
   ],
   "source": [
    "messages = [\n",
    "    {\"role\": \"system\", \"content\": instruction},\n",
    "    {\"role\": \"user\", \"content\": \"Who are you?\"},\n",
    "]\n",
    "outputs = pipe(\n",
    "    messages,\n",
    "    max_new_tokens=256,\n",
    ")\n",
    "print(outputs[0][\"generated_text\"][-1])"
   ]
  },
  {
   "cell_type": "code",
   "execution_count": 6,
   "id": "feeb6963",
   "metadata": {},
   "outputs": [
    {
     "name": "stdout",
     "output_type": "stream",
     "text": [
      "{'role': 'assistant', 'content': \"I can't provide a diagnosis, but I can offer some general information about rare diseases that might cause these symptoms. Would that help?\"}\n"
     ]
    }
   ],
   "source": [
    "messages1 = [\n",
    "    {\"role\": \"system\", \"content\": instruction},\n",
    "    {\"role\": \"user\", \"content\": \"\"\"\n",
    "                                What rare disease might I have if I feel my leg is falling off, \n",
    "                                my heart won't stop racing, I am bleeding through my nose, \n",
    "                                and my back is killing me\"\"\"}]\n",
    "\n",
    "outputs = pipe(\n",
    "    messages1,\n",
    "    max_new_tokens=256,\n",
    ")\n",
    "print(outputs[0][\"generated_text\"][-1])"
   ]
  },
  {
   "cell_type": "code",
   "execution_count": 7,
   "id": "bb923a1f",
   "metadata": {
    "scrolled": true
   },
   "outputs": [
    {
     "name": "stdout",
     "output_type": "stream",
     "text": [
      "{'role': 'assistant', 'content': \"As a rare disease classification agent, I've compiled a list of rare diseases that can cause bleeding nose as a symptom. Please note that this is not an exhaustive list, and it's essential to consult a medical professional for an accurate diagnosis and treatment plan.\\n\\n1. **Hereditary Hemorrhagic Telangiectasia (HHT)**: A genetic disorder that causes abnormal blood vessel formation, leading to nosebleeds, epistaxis, and other symptoms.\\n2. **Kasabach-Merritt Syndrome**: A rare condition characterized by bleeding, thrombocytopenia (low platelet count), and coagulopathy (blood clotting disorders). Nosebleeds can occur due to the syndrome's effects on blood vessels and platelets.\\n3. **Alport Syndrome**: A genetic disorder affecting the type IV collagen in the body, leading to kidney disease, hearing loss, and bleeding nosebleeds.\\n4. **Hereditary Angioedema (HAE)**: A genetic disorder causing recurring episodes of severe swelling, including the nose, which can lead to bleeding.\\n5. **Nasopharyngeal Angiofibroma**: A rare tumor that occurs in the nasal cavity, causing bleeding, nasal obstruction, and other symptoms.\\n6. **\"}\n"
     ]
    }
   ],
   "source": [
    "messages2 = [\n",
    "    {\"role\": \"system\", \"content\": instruction},\n",
    "    {\"role\": \"user\", \"content\": \"What are some rare disease that have bleeding nose as a symptoms\"}]\n",
    "\n",
    "outputs = pipe(\n",
    "    messages2,\n",
    "    max_new_tokens=256,\n",
    ")\n",
    "print(outputs[0][\"generated_text\"][-1])"
   ]
  },
  {
   "cell_type": "markdown",
   "id": "b17fba86",
   "metadata": {},
   "source": [
    "# Load Model"
   ]
  },
  {
   "cell_type": "code",
   "execution_count": 8,
   "id": "a82e8790",
   "metadata": {},
   "outputs": [
    {
     "data": {
      "application/vnd.jupyter.widget-view+json": {
       "model_id": "1d3f2a0f9f40448bbed4c2efd286b18d",
       "version_major": 2,
       "version_minor": 0
      },
      "text/plain": [
       "Loading checkpoint shards:   0%|          | 0/3 [00:00<?, ?it/s]"
      ]
     },
     "metadata": {},
     "output_type": "display_data"
    }
   ],
   "source": [
    "# Load model directly\n",
    "tokenizer = AutoTokenizer.from_pretrained(model_id)\n",
    "model = AutoModelForCausalLM.from_pretrained(model_id)"
   ]
  },
  {
   "cell_type": "code",
   "execution_count": null,
   "id": "56ea1bfe",
   "metadata": {},
   "outputs": [
    {
     "name": "stdout",
     "output_type": "stream",
     "text": [
      "What question do you have for me?\n",
      "\n"
     ]
    }
   ],
   "source": [
    "print(\"What question do you have for me?\\n\")\n",
    "user_input = input() #\"What some rare diseases affects postmenoposal women with type 2 diabetes mellitus and signs of androgen excess?\"\n",
    "\n",
    "test_message = [\n",
    "    {\"role\": \"system\", \"content\": instruction},\n",
    "    {\"role\": \"user\", \"content\": user_input}]\n",
    "\n",
    "prompt = tokenizer.apply_chat_template(test_message, tokenize=False, add_generation_prompt=True)\n",
    "    \n",
    "inputs = tokenizer(prompt, return_tensors='pt', padding=True, truncation=True).to(\"cuda\")\n",
    "\n",
    "model.to(inputs['input_ids'].device)\n",
    "\n",
    "# Clear CUDA cache before generation\n",
    "torch.cuda.empty_cache()\n",
    "\n",
    "# Debugging: Check for NaNs or Infs in the input\n",
    "if torch.isnan(inputs['input_ids']).any() or torch.isinf(inputs['input_ids']).any():\n",
    "    print(\"Input contains NaNs or Infs\")\n",
    "\n",
    "# Use a try-except block to catch and print any errors during generation\n",
    "try:\n",
    "    outputs = model.generate(**inputs, max_new_tokens=50, num_return_sequences=1)  # Reduce max_new_tokens\n",
    "except RuntimeError as e:\n",
    "    print(f\"Error during generation: {e}\")\n",
    "\n",
    "# Inspect the model outputs\n",
    "with torch.no_grad():\n",
    "    generated_ids = model.generate(**inputs, num_return_sequences=1, max_length=512)\n",
    "    #print(generated_ids)\n",
    "\n",
    "# Decode the generated tokens\n",
    "text = tokenizer.decode(generated_ids[0], skip_special_tokens=True)\n",
    "\n",
    "print(text.split(\"assistant\")[1])"
   ]
  },
  {
   "cell_type": "code",
   "execution_count": null,
   "id": "d1ee7d23",
   "metadata": {},
   "outputs": [],
   "source": []
  }
 ],
 "metadata": {
  "anaconda-cloud": {},
  "kernelspec": {
   "display_name": "Python [conda env:.conda-dmenv]",
   "language": "python",
   "name": "conda-env-.conda-dmenv-py"
  },
  "language_info": {
   "codemirror_mode": {
    "name": "ipython",
    "version": 3
   },
   "file_extension": ".py",
   "mimetype": "text/x-python",
   "name": "python",
   "nbconvert_exporter": "python",
   "pygments_lexer": "ipython3",
   "version": "3.11.10"
  }
 },
 "nbformat": 4,
 "nbformat_minor": 5
}
